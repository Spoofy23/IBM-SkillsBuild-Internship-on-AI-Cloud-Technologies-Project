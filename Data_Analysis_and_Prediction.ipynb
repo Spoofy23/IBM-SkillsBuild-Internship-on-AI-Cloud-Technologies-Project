{
 "cells": [
  {
   "cell_type": "code",
   "execution_count": 75,
   "id": "4d804777-ef8b-46b6-8786-d7b7dea3caed",
   "metadata": {},
   "outputs": [],
   "source": [
    "import pandas as pd\n",
    "import numpy as np\n",
    "import matplotlib.pyplot as plt\n",
    "import seaborn as sns"
   ]
  },
  {
   "cell_type": "code",
   "execution_count": 77,
   "id": "e4545a7d-2ec9-4a3c-a895-25a9c468fd61",
   "metadata": {},
   "outputs": [],
   "source": [
    "df = pd.read_csv(r\"C:\\Users\\thesp\\OneDrive\\Desktop\\datafile.csv\")"
   ]
  },
  {
   "cell_type": "code",
   "execution_count": 79,
   "id": "a4556f10-841f-4b7f-99b0-f801f685b684",
   "metadata": {},
   "outputs": [],
   "source": [
    "# Convert DataValue to numeric\n",
    "df['DataValue'] = pd.to_numeric(df['DataValue'], errors='coerce')\n",
    "\n",
    "# Drop rows with missing values if needed\n",
    "df = df.dropna(subset=['DataValue'])\n",
    "\n",
    "# Save to CSV\n",
    "df.to_csv(\"cleaned_file.csv\", index=False)"
   ]
  },
  {
   "cell_type": "code",
   "execution_count": 81,
   "id": "c6f7a025-3745-4aff-b988-47eb3d5908b5",
   "metadata": {},
   "outputs": [
    {
     "name": "stdout",
     "output_type": "stream",
     "text": [
      "✅ Pivoted file saved as 'pivoted_file.csv'\n"
     ]
    }
   ],
   "source": [
    "# Pivot the data\n",
    "pivoted_df = df.pivot_table(\n",
    "    index=['TimePeriod', 'Indicator', 'Subgroup'],  # or just 'TimePeriod' if needed\n",
    "    values='DataValue',\n",
    "    aggfunc='mean'  # or sum, if more appropriate\n",
    ")\n",
    "\n",
    "# Reset index to make it a flat table\n",
    "pivoted_df = pivoted_df.reset_index()\n",
    "\n",
    "# Save to a new CSV file\n",
    "pivoted_df.to_csv(\"pivoted_file.csv\", index=False)\n",
    "\n",
    "print(\"✅ Pivoted file saved as 'pivoted_file.csv'\")\n"
   ]
  },
  {
   "cell_type": "code",
   "execution_count": 122,
   "id": "96e4a717-5cee-4658-a2a5-e020bfc5cac5",
   "metadata": {},
   "outputs": [],
   "source": [
    "pivoted = pd.read_csv(r\"C:\\Users\\thesp\\OneDrive\\Desktop\\pivoted_file.csv\")\n",
    "pivoted = pivoted.fillna(0)"
   ]
  },
  {
   "cell_type": "code",
   "execution_count": 124,
   "id": "4774d89b-12b3-44f7-8663-72494522b158",
   "metadata": {},
   "outputs": [
    {
     "name": "stdout",
     "output_type": "stream",
     "text": [
      "Index(['TimePeriod', 'Indicator', 'Subgroup', 'DataValue'], dtype='object')\n"
     ]
    }
   ],
   "source": [
    "print(df.columns)"
   ]
  },
  {
   "cell_type": "code",
   "execution_count": 126,
   "id": "34be59d7-309c-4f97-9d21-24442caa6115",
   "metadata": {},
   "outputs": [],
   "source": [
    "# Fill NaNs (you can use mean or 0 depending on data)\n",
    "pivoted = pivoted.fillna(0)\n",
    "\n",
    "# Features and Target (e.g., predicting 'Urban' values as an example)\n",
    "X = pivoted.drop(columns=['DataValue'])  # You can choose any subgroup\n",
    "y = pivoted['DataValue']\n"
   ]
  },
  {
   "cell_type": "code",
   "execution_count": 128,
   "id": "36c884b0-019e-40e6-aa0e-bf5843e6ad83",
   "metadata": {},
   "outputs": [
    {
     "name": "stdout",
     "output_type": "stream",
     "text": [
      "TimePeriod     object\n",
      "Indicator      object\n",
      "Subgroup       object\n",
      "DataValue     float64\n",
      "dtype: object\n"
     ]
    }
   ],
   "source": [
    "print(pivoted.dtypes)"
   ]
  },
  {
   "cell_type": "code",
   "execution_count": 131,
   "id": "60ea23c9-323f-40da-840d-221e66dfd367",
   "metadata": {},
   "outputs": [
    {
     "name": "stdout",
     "output_type": "stream",
     "text": [
      "DataValue                                                         float64\n",
      "TimePeriod_2011-12                                                   bool\n",
      "TimePeriod_2013                                                      bool\n",
      "TimePeriod_2013-15                                                   bool\n",
      "TimePeriod_2014                                                      bool\n",
      "                                                                   ...   \n",
      "Subgroup_Urban Male                                                  bool\n",
      "Subgroup_Violence against women                                      bool\n",
      "Subgroup_Voting Rights (Out of 11 international organizations)       bool\n",
      "Subgroup_Wheat                                                       bool\n",
      "Subgroup_Women(15-49 yrs)                                            bool\n",
      "Length: 422, dtype: object\n"
     ]
    }
   ],
   "source": [
    "import pandas as pd\n",
    "\n",
    "# Load your file (adjust path if needed)\n",
    "pivoted = pd.read_csv(\"pivoted_file.csv\")\n",
    "\n",
    "# One-hot encode again\n",
    "pivoted_encoded = pd.get_dummies(pivoted, columns=['TimePeriod', 'Indicator', 'Subgroup'], drop_first=True)\n",
    "\n",
    "# Check again\n",
    "print(pivoted_encoded.dtypes)\n"
   ]
  },
  {
   "cell_type": "code",
   "execution_count": 133,
   "id": "ae8c7efc-d180-4bbb-bb88-e5d4681cc3c8",
   "metadata": {},
   "outputs": [],
   "source": [
    "# Load the pivoted file\n",
    "pivoted = pd.read_csv(\"pivoted_file.csv\")\n",
    "\n",
    "# One-hot encode categorical features\n",
    "pivoted_encoded = pd.get_dummies(pivoted, columns=['TimePeriod', 'Indicator', 'Subgroup'], drop_first=True)\n",
    "\n",
    "# Forcefully convert all columns to numeric, coercing errors to NaN\n",
    "pivoted_encoded = pivoted_encoded.apply(pd.to_numeric, errors='coerce')\n",
    "\n",
    "# Drop any rows with NaN (optional: or fill them with 0 or mean)\n",
    "pivoted_encoded = pivoted_encoded.dropna()\n"
   ]
  },
  {
   "cell_type": "code",
   "execution_count": 135,
   "id": "05d5a53b-2960-4afd-8e0b-c55cf254c441",
   "metadata": {},
   "outputs": [
    {
     "name": "stdout",
     "output_type": "stream",
     "text": [
      "Index(['TimePeriod', 'Indicator', 'Subgroup'], dtype='object')\n"
     ]
    }
   ],
   "source": [
    "print(df.columns[df.dtypes == 'object'])"
   ]
  },
  {
   "cell_type": "code",
   "execution_count": 141,
   "id": "effa951b-a438-4346-96be-0aa6e3cf3df7",
   "metadata": {},
   "outputs": [
    {
     "name": "stdout",
     "output_type": "stream",
     "text": [
      "Mean Squared Error: 8.006075688503848e-23\n"
     ]
    }
   ],
   "source": [
    "from sklearn.model_selection import train_test_split\n",
    "from sklearn.linear_model import LinearRegression\n",
    "from sklearn.metrics import mean_squared_error\n",
    "\n",
    "# Step 2: Load CSV\n",
    "df = pd.read_csv(\"pivoted_file.csv\")\n",
    "\n",
    "# Step 3: Pivot the data\n",
    "pivoted = df.pivot_table(index=['TimePeriod', 'Indicator'], columns='Subgroup', values='DataValue')\n",
    "pivoted = pivoted.fillna(0)  # Fill missing values\n",
    "\n",
    "# Step 4: Flatten multiindex columns if needed\n",
    "pivoted.columns.name = None\n",
    "pivoted.reset_index(inplace=True)\n",
    "\n",
    "# Step 5: Drop non-numeric columns from features\n",
    "X = pivoted.drop(columns=['TimePeriod', 'Indicator', 'Urban Female'])  # 'Urban Female' is target\n",
    "y = pivoted['Urban Female']\n",
    "\n",
    "# Step 6: Train-test split\n",
    "X_train, X_test, y_train, y_test = train_test_split(X, y, test_size=0.2, random_state=42)\n",
    "\n",
    "# Step 7: Train Linear Regression model\n",
    "model = LinearRegression()\n",
    "model.fit(X_train, y_train)\n",
    "\n",
    "# Step 8: Predictions and evaluation\n",
    "y_pred = model.predict(X_test)\n",
    "mse = mean_squared_error(y_test, y_pred)\n",
    "\n",
    "print(\"Mean Squared Error:\", mse)\n"
   ]
  },
  {
   "cell_type": "code",
   "execution_count": 143,
   "id": "d713e8b8-c50b-47a0-91b4-292be9e81580",
   "metadata": {},
   "outputs": [
    {
     "data": {
      "image/png": "[encoded data removed]",
      "text/plain": [
       "<Figure size 800x500 with 1 Axes>"
      ]
     },
     "metadata": {},
     "output_type": "display_data"
    }
   ],
   "source": [
    "# Scatter plot of actual vs predicted\n",
    "plt.figure(figsize=(8, 5))\n",
    "plt.scatter(y_test, y_pred, color='blue', edgecolor='k')\n",
    "plt.plot([y_test.min(), y_test.max()], [y_test.min(), y_test.max()], 'r--', lw=2)  # reference line\n",
    "plt.xlabel('Actual DataValue')\n",
    "plt.ylabel('Predicted DataValue')\n",
    "plt.title('Actual vs Predicted DataValue')\n",
    "plt.grid(True)\n",
    "plt.tight_layout()\n",
    "plt.show()\n"
   ]
  },
  {
   "cell_type": "code",
   "execution_count": null,
   "id": "066f8d74-6fd1-4f0f-8979-9cd21aea1483",
   "metadata": {},
   "outputs": [],
   "source": []
  }
 ],
 "metadata": {
  "kernelspec": {
   "display_name": "Python 3 (ipykernel)",
   "language": "python",
   "name": "python3"
  },
  "language_info": {
   "codemirror_mode": {
    "name": "ipython",
    "version": 3
   },
   "file_extension": ".py",
   "mimetype": "text/x-python",
   "name": "python",
   "nbconvert_exporter": "python",
   "pygments_lexer": "ipython3",
   "version": "3.12.4"
  }
 },
 "nbformat": 4,
 "nbformat_minor": 5
}
